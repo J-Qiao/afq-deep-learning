{
 "cells": [
  {
   "cell_type": "code",
   "execution_count": 1,
   "metadata": {},
   "outputs": [],
   "source": [
    "import afqinsight.nn.tf_models as nn\n",
    "import numpy as np\n",
    "import tensorflow as tf\n",
    "\n",
    "from afqinsight.datasets import AFQDataset\n",
    "from afqinsight.nn.tf_models import mlp4, cnn_lenet\n",
    "from sklearn.impute import SimpleImputer"
   ]
  },
  {
   "cell_type": "code",
   "execution_count": 2,
   "metadata": {},
   "outputs": [],
   "source": [
    "afq_dataset = AFQDataset(\n",
    "    fn_nodes=\"../data/raw/combined_tract_profiles.csv\",\n",
    "    fn_subjects=\"../data/raw/participants.csv\",\n",
    "    dwi_metrics=[\"dki_fa\", \"dki_md\"],\n",
    "    target_cols=[\"age\"],\n",
    "    index_col=\"subject_id\",\n",
    ")"
   ]
  },
  {
   "cell_type": "code",
   "execution_count": 3,
   "metadata": {},
   "outputs": [],
   "source": [
    "afq_dataset.drop_target_na()"
   ]
  },
  {
   "cell_type": "code",
   "execution_count": 4,
   "metadata": {},
   "outputs": [
    {
     "name": "stdout",
     "output_type": "stream",
     "text": [
      "1867\n",
      "(1867, 4800)\n",
      "(1867,)\n"
     ]
    }
   ],
   "source": [
    "print(len(afq_dataset.subjects))\n",
    "print(afq_dataset.X.shape)\n",
    "print(afq_dataset.y.shape)"
   ]
  },
  {
   "cell_type": "code",
   "execution_count": 5,
   "metadata": {},
   "outputs": [],
   "source": [
    "# Here we impute missing bundles.\n",
    "# We impute using the entire dataset, which permits data leakage between the train and test set.\n",
    "# THIS IS BAD AND SHOULDN'T BE DONE IN PRODUCTION\n",
    "# But we do it here to move straight to model training\n",
    "# When we are more comfortabel with the models, we should come back\n",
    "# here and train the imputer only on the training set.\n",
    "imputer = SimpleImputer(strategy=\"median\")\n",
    "afq_dataset.X = imputer.fit_transform(afq_dataset.X)"
   ]
  },
  {
   "cell_type": "code",
   "execution_count": 6,
   "metadata": {},
   "outputs": [],
   "source": [
    "# Separate into training, test, and validation sets\n",
    "dataset_size = len(afq_dataset.subjects)\n",
    "train_size = int(0.7 * dataset_size)\n",
    "val_size = int(0.15 * dataset_size)\n",
    "test_size = int(0.15 * dataset_size)\n",
    "\n",
    "full_dataset = afq_dataset.as_tensorflow_dataset()\n",
    "full_dataset = full_dataset.shuffle(buffer_size=dataset_size, seed=0)\n",
    "\n",
    "train_dataset = full_dataset.take(train_size)\n",
    "test_dataset = full_dataset.skip(train_size)\n",
    "val_dataset = test_dataset.skip(val_size)\n",
    "test_dataset = test_dataset.take(test_size)"
   ]
  },
  {
   "cell_type": "code",
   "execution_count": 7,
   "metadata": {},
   "outputs": [],
   "source": [
    "# Batch the datasets for ingestion during model training/evaluation\n",
    "batch_size = 128\n",
    "train_dataset = train_dataset.batch(batch_size)\n",
    "test_dataset = test_dataset.batch(batch_size)\n",
    "val_dataset = val_dataset.batch(batch_size)"
   ]
  },
  {
   "cell_type": "code",
   "execution_count": 8,
   "metadata": {},
   "outputs": [
    {
     "name": "stdout",
     "output_type": "stream",
     "text": [
      "pooling layers: 4\n",
      "Model: \"model\"\n",
      "_________________________________________________________________\n",
      "Layer (type)                 Output Shape              Param #   \n",
      "=================================================================\n",
      "input_1 (InputLayer)         [(None, 100, 48)]         0         \n",
      "_________________________________________________________________\n",
      "conv1d (Conv1D)              (None, 100, 6)            870       \n",
      "_________________________________________________________________\n",
      "max_pooling1d (MaxPooling1D) (None, 50, 6)             0         \n",
      "_________________________________________________________________\n",
      "conv1d_1 (Conv1D)            (None, 50, 16)            304       \n",
      "_________________________________________________________________\n",
      "max_pooling1d_1 (MaxPooling1 (None, 25, 16)            0         \n",
      "_________________________________________________________________\n",
      "conv1d_2 (Conv1D)            (None, 25, 26)            1274      \n",
      "_________________________________________________________________\n",
      "max_pooling1d_2 (MaxPooling1 (None, 12, 26)            0         \n",
      "_________________________________________________________________\n",
      "conv1d_3 (Conv1D)            (None, 12, 36)            2844      \n",
      "_________________________________________________________________\n",
      "max_pooling1d_3 (MaxPooling1 (None, 6, 36)             0         \n",
      "_________________________________________________________________\n",
      "flatten (Flatten)            (None, 216)               0         \n",
      "_________________________________________________________________\n",
      "dense (Dense)                (None, 120)               26040     \n",
      "_________________________________________________________________\n",
      "dropout (Dropout)            (None, 120)               0         \n",
      "_________________________________________________________________\n",
      "dense_1 (Dense)              (None, 84)                10164     \n",
      "_________________________________________________________________\n",
      "dropout_1 (Dropout)          (None, 84)                0         \n",
      "_________________________________________________________________\n",
      "dense_2 (Dense)              (None, 1)                 85        \n",
      "=================================================================\n",
      "Total params: 41,581\n",
      "Trainable params: 41,581\n",
      "Non-trainable params: 0\n",
      "_________________________________________________________________\n"
     ]
    }
   ],
   "source": [
    "# First let's check out the ``cnn_lenet`` from the tf_models module\n",
    "model = cnn_lenet(input_shape=(100, 48) , n_classes=1, output_activation=None, verbose=True)"
   ]
  },
  {
   "cell_type": "code",
   "execution_count": 9,
   "metadata": {
    "scrolled": true
   },
   "outputs": [
    {
     "name": "stdout",
     "output_type": "stream",
     "text": [
      "Epoch 1/100\n",
      "11/11 [==============================] - 1s 22ms/step - loss: 66.2018 - mean_squared_error: 66.2018\n",
      "Epoch 2/100\n",
      "11/11 [==============================] - 0s 18ms/step - loss: 28.4324 - mean_squared_error: 28.4324\n",
      "Epoch 3/100\n",
      "11/11 [==============================] - 0s 19ms/step - loss: 23.4638 - mean_squared_error: 23.4638\n",
      "Epoch 4/100\n",
      "11/11 [==============================] - 0s 18ms/step - loss: 22.2581 - mean_squared_error: 22.2581\n",
      "Epoch 5/100\n",
      "11/11 [==============================] - 0s 19ms/step - loss: 21.6447 - mean_squared_error: 21.6447\n",
      "Epoch 6/100\n",
      "11/11 [==============================] - 0s 19ms/step - loss: 18.9925 - mean_squared_error: 18.9925\n",
      "Epoch 7/100\n",
      "11/11 [==============================] - 0s 19ms/step - loss: 19.5974 - mean_squared_error: 19.5974\n",
      "Epoch 8/100\n",
      "11/11 [==============================] - 0s 21ms/step - loss: 19.7697 - mean_squared_error: 19.7697\n",
      "Epoch 9/100\n",
      "11/11 [==============================] - 0s 19ms/step - loss: 18.1667 - mean_squared_error: 18.1667\n",
      "Epoch 10/100\n",
      "11/11 [==============================] - 0s 20ms/step - loss: 17.9727 - mean_squared_error: 17.9727\n",
      "Epoch 11/100\n",
      "11/11 [==============================] - 0s 19ms/step - loss: 18.6536 - mean_squared_error: 18.6536\n",
      "Epoch 12/100\n",
      "11/11 [==============================] - 0s 18ms/step - loss: 18.3387 - mean_squared_error: 18.3387\n",
      "Epoch 13/100\n",
      "11/11 [==============================] - 0s 20ms/step - loss: 17.8366 - mean_squared_error: 17.8366\n",
      "Epoch 14/100\n",
      "11/11 [==============================] - 0s 18ms/step - loss: 17.9553 - mean_squared_error: 17.9553\n",
      "Epoch 15/100\n",
      "11/11 [==============================] - 0s 18ms/step - loss: 17.0164 - mean_squared_error: 17.0164\n",
      "Epoch 16/100\n",
      "11/11 [==============================] - 0s 19ms/step - loss: 17.6030 - mean_squared_error: 17.6030\n",
      "Epoch 17/100\n",
      "11/11 [==============================] - 0s 40ms/step - loss: 17.1781 - mean_squared_error: 17.1781\n",
      "Epoch 18/100\n",
      "11/11 [==============================] - 0s 27ms/step - loss: 17.5836 - mean_squared_error: 17.5836\n",
      "Epoch 19/100\n",
      "11/11 [==============================] - 0s 22ms/step - loss: 16.7618 - mean_squared_error: 16.7618\n",
      "Epoch 20/100\n",
      "11/11 [==============================] - 0s 19ms/step - loss: 17.5261 - mean_squared_error: 17.5261\n",
      "Epoch 21/100\n",
      "11/11 [==============================] - 0s 19ms/step - loss: 17.5548 - mean_squared_error: 17.5548\n",
      "Epoch 22/100\n",
      "11/11 [==============================] - 0s 18ms/step - loss: 16.6473 - mean_squared_error: 16.6473\n",
      "Epoch 23/100\n",
      "11/11 [==============================] - 0s 18ms/step - loss: 16.7144 - mean_squared_error: 16.7144\n",
      "Epoch 24/100\n",
      "11/11 [==============================] - 0s 18ms/step - loss: 17.4214 - mean_squared_error: 17.4214\n",
      "Epoch 25/100\n",
      "11/11 [==============================] - 0s 19ms/step - loss: 17.1179 - mean_squared_error: 17.1179\n",
      "Epoch 26/100\n",
      "11/11 [==============================] - 0s 19ms/step - loss: 17.0073 - mean_squared_error: 17.0073\n",
      "Epoch 27/100\n",
      "11/11 [==============================] - 0s 19ms/step - loss: 16.3301 - mean_squared_error: 16.3301\n",
      "Epoch 28/100\n",
      "11/11 [==============================] - 0s 18ms/step - loss: 16.9437 - mean_squared_error: 16.9437\n",
      "Epoch 29/100\n",
      "11/11 [==============================] - 0s 18ms/step - loss: 17.3921 - mean_squared_error: 17.3921\n",
      "Epoch 30/100\n",
      "11/11 [==============================] - 0s 18ms/step - loss: 16.2264 - mean_squared_error: 16.2264\n",
      "Epoch 31/100\n",
      "11/11 [==============================] - 0s 19ms/step - loss: 15.6249 - mean_squared_error: 15.6249\n",
      "Epoch 32/100\n",
      "11/11 [==============================] - 0s 19ms/step - loss: 16.7871 - mean_squared_error: 16.7871\n",
      "Epoch 33/100\n",
      "11/11 [==============================] - 0s 18ms/step - loss: 17.3438 - mean_squared_error: 17.3438\n",
      "Epoch 34/100\n",
      "11/11 [==============================] - 0s 20ms/step - loss: 15.0049 - mean_squared_error: 15.0049\n",
      "Epoch 35/100\n",
      "11/11 [==============================] - 0s 19ms/step - loss: 16.8576 - mean_squared_error: 16.8576\n",
      "Epoch 36/100\n",
      "11/11 [==============================] - 0s 18ms/step - loss: 15.5079 - mean_squared_error: 15.5079\n",
      "Epoch 37/100\n",
      "11/11 [==============================] - 0s 18ms/step - loss: 15.8861 - mean_squared_error: 15.8861\n",
      "Epoch 38/100\n",
      "11/11 [==============================] - 0s 19ms/step - loss: 15.9404 - mean_squared_error: 15.9404\n",
      "Epoch 39/100\n",
      "11/11 [==============================] - 0s 19ms/step - loss: 16.0155 - mean_squared_error: 16.0155\n",
      "Epoch 40/100\n",
      "11/11 [==============================] - 0s 18ms/step - loss: 15.9003 - mean_squared_error: 15.9003\n",
      "Epoch 41/100\n",
      "11/11 [==============================] - 0s 19ms/step - loss: 14.8731 - mean_squared_error: 14.8731\n",
      "Epoch 42/100\n",
      "11/11 [==============================] - 0s 18ms/step - loss: 14.4381 - mean_squared_error: 14.4381\n",
      "Epoch 43/100\n",
      "11/11 [==============================] - 0s 19ms/step - loss: 14.6077 - mean_squared_error: 14.6077\n",
      "Epoch 44/100\n",
      "11/11 [==============================] - 0s 18ms/step - loss: 14.1980 - mean_squared_error: 14.1980\n",
      "Epoch 45/100\n",
      "11/11 [==============================] - 0s 18ms/step - loss: 13.8674 - mean_squared_error: 13.8674\n",
      "Epoch 46/100\n",
      "11/11 [==============================] - 0s 19ms/step - loss: 14.9362 - mean_squared_error: 14.9362\n",
      "Epoch 47/100\n",
      "11/11 [==============================] - 0s 18ms/step - loss: 13.4556 - mean_squared_error: 13.4556\n",
      "Epoch 48/100\n",
      "11/11 [==============================] - 0s 19ms/step - loss: 13.4637 - mean_squared_error: 13.4637\n",
      "Epoch 49/100\n",
      "11/11 [==============================] - 0s 18ms/step - loss: 12.3571 - mean_squared_error: 12.3571\n",
      "Epoch 50/100\n",
      "11/11 [==============================] - 0s 18ms/step - loss: 13.7620 - mean_squared_error: 13.7620\n",
      "Epoch 51/100\n",
      "11/11 [==============================] - 0s 19ms/step - loss: 13.2711 - mean_squared_error: 13.2711\n",
      "Epoch 52/100\n",
      "11/11 [==============================] - 0s 19ms/step - loss: 12.1930 - mean_squared_error: 12.1930\n",
      "Epoch 53/100\n",
      "11/11 [==============================] - 0s 19ms/step - loss: 13.2057 - mean_squared_error: 13.2057\n",
      "Epoch 54/100\n",
      "11/11 [==============================] - 0s 19ms/step - loss: 12.5500 - mean_squared_error: 12.5500\n",
      "Epoch 55/100\n",
      "11/11 [==============================] - 0s 19ms/step - loss: 12.7743 - mean_squared_error: 12.7743\n",
      "Epoch 56/100\n",
      "11/11 [==============================] - 0s 19ms/step - loss: 13.0364 - mean_squared_error: 13.0364\n",
      "Epoch 57/100\n",
      "11/11 [==============================] - 0s 18ms/step - loss: 11.8925 - mean_squared_error: 11.8925\n",
      "Epoch 58/100\n",
      "11/11 [==============================] - 0s 19ms/step - loss: 13.2257 - mean_squared_error: 13.2257\n",
      "Epoch 59/100\n",
      "11/11 [==============================] - 0s 19ms/step - loss: 11.8923 - mean_squared_error: 11.8923\n",
      "Epoch 60/100\n",
      "11/11 [==============================] - 0s 21ms/step - loss: 13.5815 - mean_squared_error: 13.5815\n",
      "Epoch 61/100\n",
      "11/11 [==============================] - 0s 19ms/step - loss: 11.8035 - mean_squared_error: 11.8035\n",
      "Epoch 62/100\n",
      "11/11 [==============================] - 0s 19ms/step - loss: 12.6091 - mean_squared_error: 12.6091\n",
      "Epoch 63/100\n",
      "11/11 [==============================] - 0s 18ms/step - loss: 12.0926 - mean_squared_error: 12.0926\n",
      "Epoch 64/100\n",
      "11/11 [==============================] - 0s 18ms/step - loss: 11.6844 - mean_squared_error: 11.6844\n",
      "Epoch 65/100\n",
      "11/11 [==============================] - 0s 24ms/step - loss: 12.5088 - mean_squared_error: 12.5088\n",
      "Epoch 66/100\n",
      "11/11 [==============================] - 0s 25ms/step - loss: 12.2913 - mean_squared_error: 12.2913\n",
      "Epoch 67/100\n",
      "11/11 [==============================] - 0s 20ms/step - loss: 11.3650 - mean_squared_error: 11.3650\n",
      "Epoch 68/100\n",
      "11/11 [==============================] - 0s 21ms/step - loss: 10.7748 - mean_squared_error: 10.7748\n",
      "Epoch 69/100\n",
      "11/11 [==============================] - 0s 19ms/step - loss: 11.8466 - mean_squared_error: 11.8466\n",
      "Epoch 70/100\n",
      "11/11 [==============================] - 0s 19ms/step - loss: 11.6493 - mean_squared_error: 11.6493\n",
      "Epoch 71/100\n",
      "11/11 [==============================] - 0s 19ms/step - loss: 12.1881 - mean_squared_error: 12.1881\n",
      "Epoch 72/100\n",
      "11/11 [==============================] - 0s 19ms/step - loss: 11.4101 - mean_squared_error: 11.4101\n",
      "Epoch 73/100\n",
      "11/11 [==============================] - 0s 22ms/step - loss: 11.1503 - mean_squared_error: 11.1503\n",
      "Epoch 74/100\n",
      "11/11 [==============================] - 0s 28ms/step - loss: 11.9047 - mean_squared_error: 11.9047\n",
      "Epoch 75/100\n",
      "11/11 [==============================] - 0s 23ms/step - loss: 11.3478 - mean_squared_error: 11.3478\n",
      "Epoch 76/100\n",
      "11/11 [==============================] - 0s 25ms/step - loss: 10.7314 - mean_squared_error: 10.7314\n",
      "Epoch 77/100\n",
      "11/11 [==============================] - 0s 23ms/step - loss: 11.6743 - mean_squared_error: 11.6743\n",
      "Epoch 78/100\n",
      "11/11 [==============================] - 0s 20ms/step - loss: 11.3519 - mean_squared_error: 11.3519\n",
      "Epoch 79/100\n",
      "11/11 [==============================] - 0s 21ms/step - loss: 11.2305 - mean_squared_error: 11.2305\n",
      "Epoch 80/100\n",
      "11/11 [==============================] - 0s 19ms/step - loss: 11.6280 - mean_squared_error: 11.6280\n",
      "Epoch 81/100\n",
      "11/11 [==============================] - 0s 20ms/step - loss: 11.2753 - mean_squared_error: 11.2753\n",
      "Epoch 82/100\n",
      "11/11 [==============================] - 0s 23ms/step - loss: 10.5131 - mean_squared_error: 10.5131\n",
      "Epoch 83/100\n",
      "11/11 [==============================] - 0s 20ms/step - loss: 10.6292 - mean_squared_error: 10.6292\n",
      "Epoch 84/100\n",
      "11/11 [==============================] - 0s 27ms/step - loss: 11.0246 - mean_squared_error: 11.0246\n",
      "Epoch 85/100\n",
      "11/11 [==============================] - 0s 20ms/step - loss: 10.7028 - mean_squared_error: 10.7028\n",
      "Epoch 86/100\n",
      "11/11 [==============================] - 0s 18ms/step - loss: 10.9541 - mean_squared_error: 10.9541\n",
      "Epoch 87/100\n",
      "11/11 [==============================] - 0s 19ms/step - loss: 9.7810 - mean_squared_error: 9.7810\n",
      "Epoch 88/100\n",
      "11/11 [==============================] - 0s 19ms/step - loss: 10.9975 - mean_squared_error: 10.9975\n",
      "Epoch 89/100\n",
      "11/11 [==============================] - 0s 19ms/step - loss: 10.9431 - mean_squared_error: 10.9431\n",
      "Epoch 90/100\n",
      "11/11 [==============================] - 0s 21ms/step - loss: 10.8459 - mean_squared_error: 10.8459\n",
      "Epoch 91/100\n",
      "11/11 [==============================] - 0s 22ms/step - loss: 10.3335 - mean_squared_error: 10.3335\n",
      "Epoch 92/100\n",
      "11/11 [==============================] - 0s 21ms/step - loss: 10.5845 - mean_squared_error: 10.5845\n",
      "Epoch 93/100\n",
      "11/11 [==============================] - 0s 20ms/step - loss: 11.2024 - mean_squared_error: 11.2024\n",
      "Epoch 94/100\n",
      "11/11 [==============================] - 0s 19ms/step - loss: 11.0749 - mean_squared_error: 11.0749\n",
      "Epoch 95/100\n",
      "11/11 [==============================] - 0s 19ms/step - loss: 10.1010 - mean_squared_error: 10.1010\n",
      "Epoch 96/100\n",
      "11/11 [==============================] - 0s 19ms/step - loss: 10.6325 - mean_squared_error: 10.6325\n",
      "Epoch 97/100\n",
      "11/11 [==============================] - 0s 29ms/step - loss: 11.2406 - mean_squared_error: 11.2406\n",
      "Epoch 98/100\n",
      "11/11 [==============================] - 0s 21ms/step - loss: 10.8595 - mean_squared_error: 10.8595\n",
      "Epoch 99/100\n",
      "11/11 [==============================] - 0s 22ms/step - loss: 10.7522 - mean_squared_error: 10.7522\n",
      "Epoch 100/100\n",
      "11/11 [==============================] - 0s 19ms/step - loss: 10.5736 - mean_squared_error: 10.5736\n"
     ]
    },
    {
     "data": {
      "text/plain": [
       "<tensorflow.python.keras.callbacks.History at 0x7fac4a4fabb0>"
      ]
     },
     "execution_count": 9,
     "metadata": {},
     "output_type": "execute_result"
    }
   ],
   "source": [
    "# Compile the model and fit it using training data\n",
    "model.compile(loss= \"mean_squared_error\" , optimizer=\"adam\", metrics=[\"mean_squared_error\"])\n",
    "model.fit(train_dataset, epochs=100)"
   ]
  },
  {
   "cell_type": "code",
   "execution_count": 10,
   "metadata": {},
   "outputs": [
    {
     "name": "stdout",
     "output_type": "stream",
     "text": [
      "3/3 [==============================] - 0s 7ms/step - loss: 6.3917 - mean_squared_error: 6.3917\n"
     ]
    },
    {
     "data": {
      "text/plain": [
       "[6.391738414764404, 6.391738414764404]"
      ]
     },
     "execution_count": 10,
     "metadata": {},
     "output_type": "execute_result"
    }
   ],
   "source": [
    "# Evaluate the model on the validation set\n",
    "model.evaluate(val_dataset)"
   ]
  },
  {
   "cell_type": "markdown",
   "metadata": {},
   "source": [
    "We see that this model achieves a mean squared error of ~6.4, or an RMSE of ~2.5 years. This is probably an overly optimistic estimate because we imputed using the entire dataset."
   ]
  },
  {
   "cell_type": "code",
   "execution_count": null,
   "metadata": {},
   "outputs": [],
   "source": []
  }
 ],
 "metadata": {
  "kernelspec": {
   "display_name": "Python 3",
   "language": "python",
   "name": "python3"
  },
  "language_info": {
   "codemirror_mode": {
    "name": "ipython",
    "version": 3
   },
   "file_extension": ".py",
   "mimetype": "text/x-python",
   "name": "python",
   "nbconvert_exporter": "python",
   "pygments_lexer": "ipython3",
   "version": "3.8.5"
  }
 },
 "nbformat": 4,
 "nbformat_minor": 4
}
