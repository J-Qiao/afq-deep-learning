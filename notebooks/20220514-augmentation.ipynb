{
 "cells": [
  {
   "cell_type": "code",
   "execution_count": 1,
   "id": "8455415a-d0d4-475f-90ce-7800ac1ebd79",
   "metadata": {},
   "outputs": [
    {
     "name": "stderr",
     "output_type": "stream",
     "text": [
      "/anaconda/envs/azureml_py38_PT_TF/lib/python3.8/site-packages/tqdm/auto.py:22: TqdmWarning: IProgress not found. Please update jupyter and ipywidgets. See https://ipywidgets.readthedocs.io/en/stable/user_install.html\n",
      "  from .autonotebook import tqdm as notebook_tqdm\n"
     ]
    }
   ],
   "source": [
    "import afqinsight.nn.tf_models as nn\n",
    "import numpy as np\n",
    "import tensorflow as tf\n",
    "import matplotlib.pyplot as plt\n",
    "from afqinsight.datasets import AFQDataset\n",
    "from afqinsight.nn.tf_models import cnn_lenet, mlp4, cnn_vgg, lstm1v0, lstm1, lstm2, blstm1, blstm2, lstm_fcn, cnn_resnet\n",
    "from sklearn.impute import SimpleImputer\n",
    "import os.path\n",
    "# Harmonization\n",
    "from sklearn.model_selection import train_test_split\n",
    "from neurocombat_sklearn import CombatModel\n",
    "import pandas as pd\n",
    "from sklearn.utils import shuffle, resample\n",
    "from afqinsight.augmentation import jitter, time_warp, scaling, magnitude_warp, window_warp\n",
    "import tempfile\n",
    "from sklearn.metrics import r2_score, median_absolute_error, mean_absolute_error"
   ]
  },
  {
   "cell_type": "code",
   "execution_count": null,
   "id": "cc962c17-2652-4334-bd33-7b2388fff6fb",
   "metadata": {},
   "outputs": [],
   "source": []
  },
  {
   "cell_type": "code",
   "execution_count": 2,
   "id": "750af727-dfcf-4752-b103-67459a34acf4",
   "metadata": {},
   "outputs": [],
   "source": [
    "afq_dataset = AFQDataset.from_files(\n",
    "    fn_nodes=\"../data/raw/combined_tract_profiles.csv\",\n",
    "    fn_subjects=\"../data/raw/participants_updated_id.csv\",\n",
    "    dwi_metrics=[\"dki_fa\", \"dki_md\", \"dki_mk\"],\n",
    "    index_col=\"subject_id\",\n",
    "    target_cols=[\"age\", \"dl_qc_score\", \"scan_site_id\"],\n",
    "    label_encode_cols=[\"scan_site_id\"]\n",
    ")"
   ]
  },
  {
   "cell_type": "code",
   "execution_count": 3,
   "id": "edbaef6a-2970-4b24-827c-3dfd19d07b56",
   "metadata": {},
   "outputs": [],
   "source": [
    "afq_dataset.drop_target_na()"
   ]
  },
  {
   "cell_type": "code",
   "execution_count": 4,
   "id": "709e98d8-77df-4a56-91c7-225a47c4a555",
   "metadata": {},
   "outputs": [
    {
     "name": "stdout",
     "output_type": "stream",
     "text": [
      "1865\n",
      "(1865, 7200)\n",
      "(1865, 3)\n"
     ]
    }
   ],
   "source": [
    "print(len(afq_dataset.subjects))\n",
    "print(afq_dataset.X.shape)\n",
    "print(afq_dataset.y.shape)"
   ]
  },
  {
   "cell_type": "code",
   "execution_count": 5,
   "id": "646b286d-c547-40fe-a8fe-a1d210e9737d",
   "metadata": {},
   "outputs": [],
   "source": [
    "full_dataset = list(afq_dataset.as_tensorflow_dataset().as_numpy_iterator())"
   ]
  },
  {
   "cell_type": "code",
   "execution_count": 6,
   "id": "100c66f6-d0f8-4d98-bd08-7af6a4efffcb",
   "metadata": {},
   "outputs": [],
   "source": [
    "X = np.concatenate([xx[0][None] for xx in full_dataset], 0)\n",
    "y = np.array([yy[1][0] for yy in full_dataset])\n",
    "qc = np.array([yy[1][1] for yy in full_dataset])\n",
    "site = np.array([yy[1][2] for yy in full_dataset])"
   ]
  },
  {
   "cell_type": "code",
   "execution_count": 7,
   "id": "60e4abfc-f8de-4476-b0de-190f4f3db574",
   "metadata": {},
   "outputs": [
    {
     "data": {
      "text/plain": [
       "(array([354.,  70.,  48.,  48.,  50.,  37.,  79.,  93., 176., 910.]),\n",
       " array([0. , 0.1, 0.2, 0.3, 0.4, 0.5, 0.6, 0.7, 0.8, 0.9, 1. ]),\n",
       " <BarContainer object of 10 artists>)"
      ]
     },
     "execution_count": 7,
     "metadata": {},
     "output_type": "execute_result"
    },
    {
     "data": {
      "image/png": "[encoded data removed]",
      "text/plain": [
       "<Figure size 432x288 with 1 Axes>"
      ]
     },
     "metadata": {
      "needs_background": "light"
     },
     "output_type": "display_data"
    }
   ],
   "source": [
    "plt.hist(qc)"
   ]
  },
  {
   "cell_type": "code",
   "execution_count": 8,
   "id": "f329d53d-1890-4fa8-ad06-22268b25ddc4",
   "metadata": {},
   "outputs": [],
   "source": [
    "X = X[qc>0]\n",
    "y = y[qc>0]\n",
    "site = site[qc>0]"
   ]
  },
  {
   "cell_type": "code",
   "execution_count": 9,
   "id": "6190e953-79ec-45d8-b7cd-ff24720612b0",
   "metadata": {},
   "outputs": [
    {
     "data": {
      "text/plain": [
       "(1817, 100, 72)"
      ]
     },
     "execution_count": 9,
     "metadata": {},
     "output_type": "execute_result"
    }
   ],
   "source": [
    "X.shape"
   ]
  },
  {
   "cell_type": "code",
   "execution_count": 10,
   "id": "34b12d8c-8706-428e-a2f6-58bb99a9d44c",
   "metadata": {},
   "outputs": [
    {
     "data": {
      "text/plain": [
       "\u001b[0;31mSignature:\u001b[0m\n",
       "\u001b[0mwindow_warp\u001b[0m\u001b[0;34m(\u001b[0m\u001b[0;34m\u001b[0m\n",
       "\u001b[0;34m\u001b[0m    \u001b[0mx\u001b[0m\u001b[0;34m,\u001b[0m\u001b[0;34m\u001b[0m\n",
       "\u001b[0;34m\u001b[0m    \u001b[0mwindow_ratio\u001b[0m\u001b[0;34m=\u001b[0m\u001b[0;36m0.1\u001b[0m\u001b[0;34m,\u001b[0m\u001b[0;34m\u001b[0m\n",
       "\u001b[0;34m\u001b[0m    \u001b[0mscales\u001b[0m\u001b[0;34m=\u001b[0m\u001b[0;34m[\u001b[0m\u001b[0;36m0.5\u001b[0m\u001b[0;34m,\u001b[0m \u001b[0;36m2.0\u001b[0m\u001b[0;34m]\u001b[0m\u001b[0;34m,\u001b[0m\u001b[0;34m\u001b[0m\n",
       "\u001b[0;34m\u001b[0m    \u001b[0mwarp_channels_independently\u001b[0m\u001b[0;34m=\u001b[0m\u001b[0;32mFalse\u001b[0m\u001b[0;34m,\u001b[0m\u001b[0;34m\u001b[0m\n",
       "\u001b[0;34m\u001b[0m\u001b[0;34m)\u001b[0m\u001b[0;34m\u001b[0m\u001b[0;34m\u001b[0m\u001b[0m\n",
       "\u001b[0;31mDocstring:\u001b[0m\n",
       "Randomly warp a time window by scales.\n",
       "\n",
       "Window warping takes a random window of the input sequence and stretches or\n",
       "contracts it. See refs [1]_ and [2]_. The contraction scale is chosen randomly from the ``scales``\n",
       "parameter.\n",
       "\n",
       "Parameters\n",
       "----------\n",
       "x : numpy.ndarray\n",
       "    Sequences with shape `(batch, time_steps, n_channels)`.\n",
       "\n",
       "window_ratio : float\n",
       "    Ratio of the window to the full time series.\n",
       "\n",
       "scales : int\n",
       "    A list ratios to warp the window by.\n",
       "\n",
       "warp_channels_independently : bool, default=False\n",
       "    If True, use independent warping windows and scales for each channel.\n",
       "    If False, each channel will be warped in the same way.\n",
       "\n",
       "Returns\n",
       "-------\n",
       "numpy.ndarray\n",
       "    Numpy array of generated data of equal size of the input `x`.\n",
       "\n",
       "References\n",
       "----------\n",
       ".. [1]  A. Le Guennec, S. Malinowski, R. Tavenard, \"Data Augmentation for\n",
       "Time Series Classification using Convolutional Neural Networks,\" in\n",
       "ECML/PKDD Workshop on Advanced Analytics and Learning on Temporal Data,\n",
       "2016. HAL Id: halshs-01357973,\n",
       "URL: https://halshs.archives-ouvertes.fr/halshs-01357973.\n",
       "\n",
       ".. [2]  Brian Kenji Iwana and Seiichi Uchida, \"An empirical survey of data\n",
       "augmentation for time series classification with neural networks,\" PLOS ONE\n",
       "16(7): e0254841. DOI: https://doi.org/10.1371/journal.pone.0254841\n",
       "\u001b[0;31mFile:\u001b[0m      /mnt/batch/tasks/shared/LS_root/mounts/clusters/arokem1/code/Users/arokem/source/AFQ-Insight/afqinsight/augmentation/augmentation.py\n",
       "\u001b[0;31mType:\u001b[0m      function\n"
      ]
     },
     "metadata": {},
     "output_type": "display_data"
    }
   ],
   "source": [
    "window_warp?"
   ]
  },
  {
   "cell_type": "code",
   "execution_count": 45,
   "id": "ae652563-d4c3-48e4-ae8e-d9040e141694",
   "metadata": {},
   "outputs": [],
   "source": [
    "def tf_aug(X_in, scaler=1/20):\n",
    "    X_out = np.zeros_like(X_in)\n",
    "    for channel in range(X_in.shape[-1]):\n",
    "        this_X = X_in[..., channel][np.newaxis, ..., np.newaxis]\n",
    "        scale = np.abs(np.max(this_X) - np.min(this_X)) * scaler\n",
    "        this_X = jitter(this_X, sigma=scale)\n",
    "        this_X = scaling(this_X, sigma=scale)\n",
    "        this_X = time_warp(this_X, sigma=scale)\n",
    "        this_X = window_warp(this_X)\n",
    "        X_out[..., channel] = this_X[0, ..., 0]\n",
    "    return X_out"
   ]
  },
  {
   "cell_type": "code",
   "execution_count": 46,
   "id": "63997b8d-2711-4590-9ae7-72a15e3a9bdd",
   "metadata": {},
   "outputs": [],
   "source": [
    "imputer = SimpleImputer(strategy=\"median\")\n",
    "X = np.concatenate([imputer.fit_transform(X[..., ii])[:, :, None] for ii in range(X.shape[-1])], -1)\n"
   ]
  },
  {
   "cell_type": "code",
   "execution_count": 47,
   "id": "3cd874da-b018-46b6-9e0e-fa5c53d13712",
   "metadata": {},
   "outputs": [],
   "source": [
    "aug_X = tf_aug(X[0])"
   ]
  },
  {
   "cell_type": "code",
   "execution_count": 48,
   "id": "df5d9beb-eca6-4821-904d-cd7c32819caf",
   "metadata": {},
   "outputs": [
    {
     "data": {
      "text/plain": [
       "((1817, 100, 72), (100, 72))"
      ]
     },
     "execution_count": 48,
     "metadata": {},
     "output_type": "execute_result"
    }
   ],
   "source": [
    "X.shape, aug_X.shape"
   ]
  },
  {
   "cell_type": "code",
   "execution_count": 49,
   "id": "d546668d-6ffd-4d2b-a2fe-203417e7d674",
   "metadata": {},
   "outputs": [
    {
     "data": {
      "text/plain": [
       "[<matplotlib.lines.Line2D at 0x7f4f60155ac0>]"
      ]
     },
     "execution_count": 49,
     "metadata": {},
     "output_type": "execute_result"
    },
    {
     "data": {
      "image/png": "[encoded data removed]",
      "text/plain": [
       "<Figure size 432x288 with 1 Axes>"
      ]
     },
     "metadata": {
      "needs_background": "light"
     },
     "output_type": "display_data"
    }
   ],
   "source": [
    "plt.plot(X[0, :, 0])\n",
    "plt.plot(aug_X[:, 0])\n"
   ]
  },
  {
   "cell_type": "code",
   "execution_count": 50,
   "id": "eaacaec7-7668-4360-87da-83e7a6a9ff26",
   "metadata": {},
   "outputs": [
    {
     "data": {
      "text/plain": [
       "[<matplotlib.lines.Line2D at 0x7f4f600b5d30>]"
      ]
     },
     "execution_count": 50,
     "metadata": {},
     "output_type": "execute_result"
    },
    {
     "data": {
      "image/png": "[encoded data removed]",
      "text/plain": [
       "<Figure size 432x288 with 1 Axes>"
      ]
     },
     "metadata": {
      "needs_background": "light"
     },
     "output_type": "display_data"
    }
   ],
   "source": [
    "plt.plot(X[0, :, 24])\n",
    "plt.plot(aug_X[:, 24])"
   ]
  },
  {
   "cell_type": "code",
   "execution_count": 51,
   "id": "bd229851-44cf-4a13-ab32-03fd23f8271a",
   "metadata": {},
   "outputs": [
    {
     "data": {
      "text/plain": [
       "[<matplotlib.lines.Line2D at 0x7f4f60020d60>]"
      ]
     },
     "execution_count": 51,
     "metadata": {},
     "output_type": "execute_result"
    },
    {
     "data": {
      "image/png": "[encoded data removed]",
      "text/plain": [
       "<Figure size 432x288 with 1 Axes>"
      ]
     },
     "metadata": {
      "needs_background": "light"
     },
     "output_type": "display_data"
    }
   ],
   "source": [
    "plt.plot(X[0, :, 48])\n",
    "plt.plot(aug_X[:, 48])"
   ]
  },
  {
   "cell_type": "code",
   "execution_count": 44,
   "id": "ca5cdb6d-ed60-4fad-a031-b91118d9123b",
   "metadata": {},
   "outputs": [
    {
     "data": {
      "text/plain": [
       "(array([755.,   0.,  66.,   0.,   0.,   0.,   0., 743.,   0., 253.]),\n",
       " array([0. , 0.4, 0.8, 1.2, 1.6, 2. , 2.4, 2.8, 3.2, 3.6, 4. ]),\n",
       " <BarContainer object of 10 artists>)"
      ]
     },
     "execution_count": 44,
     "metadata": {},
     "output_type": "execute_result"
    },
    {
     "data": {
      "image/png": "[encoded data removed]",
      "text/plain": [
       "<Figure size 432x288 with 1 Axes>"
      ]
     },
     "metadata": {
      "needs_background": "light"
     },
     "output_type": "display_data"
    }
   ],
   "source": [
    "plt.hist(site)"
   ]
  },
  {
   "cell_type": "code",
   "execution_count": null,
   "id": "01cb9d03-1347-4f52-95b8-c2a386a26ea3",
   "metadata": {},
   "outputs": [],
   "source": [
    "fig, ax = plt.subplots()\n",
    "plt.plot(np.mean(X[site==0][:, :, 0], 0))\n",
    "plt.plot(np.mean(X[site==3][:, :, 0], 0))\n",
    "plt.plot(np.mean(X[site==4][:, :, 0], 0))"
   ]
  },
  {
   "cell_type": "code",
   "execution_count": null,
   "id": "9c717300-3522-4bba-b3d9-520ea3de4ba2",
   "metadata": {},
   "outputs": [],
   "source": [
    "fig, ax = plt.subplots()\n",
    "plt.plot(np.mean(X[site==0][:, :, 24], 0))\n",
    "plt.plot(np.mean(X[site==3][:, :, 24], 0))\n",
    "plt.plot(np.mean(X[site==4][:, :, 24], 0))"
   ]
  },
  {
   "cell_type": "code",
   "execution_count": null,
   "id": "e220a536-e496-4e7f-97e0-df17bf5d8f09",
   "metadata": {},
   "outputs": [],
   "source": [
    "fig, ax = plt.subplots()\n",
    "plt.plot(np.mean(X[site==0][:, :, 48], 0))\n",
    "plt.plot(np.mean(X[site==3][:, :, 48], 0))\n",
    "plt.plot(np.mean(X[site==4][:, :, 48], 0))"
   ]
  },
  {
   "cell_type": "code",
   "execution_count": null,
   "id": "efc130ad-51ad-4ec7-99e4-1ee3373afd72",
   "metadata": {},
   "outputs": [],
   "source": []
  }
 ],
 "metadata": {
  "kernelspec": {
   "display_name": "Python 3.8 - Pytorch and Tensorflow",
   "language": "python",
   "name": "azureml_py38_pt_tf"
  },
  "language_info": {
   "codemirror_mode": {
    "name": "ipython",
    "version": 3
   },
   "file_extension": ".py",
   "mimetype": "text/x-python",
   "name": "python",
   "nbconvert_exporter": "python",
   "pygments_lexer": "ipython3",
   "version": "3.8.5"
  }
 },
 "nbformat": 4,
 "nbformat_minor": 5
}
