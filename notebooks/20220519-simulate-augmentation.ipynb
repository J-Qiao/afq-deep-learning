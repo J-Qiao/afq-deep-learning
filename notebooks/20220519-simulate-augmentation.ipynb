{
 "cells": [
  {
   "cell_type": "code",
   "execution_count": 1,
   "id": "f25e1f7d-8c0b-47da-b844-db70070926e0",
   "metadata": {},
   "outputs": [],
   "source": [
    "import numpy as np\n",
    "import tensorflow as tf\n",
    "from sklearn.model_selection import train_test_split"
   ]
  },
  {
   "cell_type": "code",
   "execution_count": 2,
   "id": "646fa394-46da-4044-879a-20de7762a510",
   "metadata": {},
   "outputs": [],
   "source": [
    "X = np.random.rand(1817, 100, 72)\n",
    "y = np.random.rand(1817)"
   ]
  },
  {
   "cell_type": "code",
   "execution_count": 3,
   "id": "771d951f-a3f5-4de0-88d4-96a7d40465b4",
   "metadata": {},
   "outputs": [],
   "source": [
    "X_train, X_val, y_train, y_val = train_test_split(X, y, test_size=0.2)\n",
    "train_dataset = tf.data.Dataset.from_tensor_slices((X_train.astype(np.float32), \n",
    "                                                    y_train.astype(np.float32)))\n",
    "val_dataset = tf.data.Dataset.from_tensor_slices((X_val.astype(np.float32), \n",
    "                                                  y_val.astype(np.float32)))"
   ]
  },
  {
   "cell_type": "code",
   "execution_count": 4,
   "id": "251669f6-5bdd-4820-a5e9-b44561912f5f",
   "metadata": {},
   "outputs": [
    {
     "name": "stderr",
     "output_type": "stream",
     "text": [
      "/anaconda/envs/azureml_py38_PT_TF/lib/python3.8/site-packages/tqdm/auto.py:22: TqdmWarning: IProgress not found. Please update jupyter and ipywidgets. See https://ipywidgets.readthedocs.io/en/stable/user_install.html\n",
      "  from .autonotebook import tqdm as notebook_tqdm\n"
     ]
    }
   ],
   "source": [
    "from afqinsight.nn.tf_models import cnn_lenet"
   ]
  },
  {
   "cell_type": "code",
   "execution_count": 5,
   "id": "4c163040-610b-4f22-97a0-882e98eecdc0",
   "metadata": {},
   "outputs": [],
   "source": [
    "model = cnn_lenet(input_shape=X_train.shape[1:], n_classes=1)\n",
    "model.compile(loss='mean_squared_error')"
   ]
  },
  {
   "cell_type": "code",
   "execution_count": 6,
   "id": "00f11b0b-3709-4639-be70-3332d23339e8",
   "metadata": {},
   "outputs": [],
   "source": [
    "from afqinsight.augmentation import jitter, time_warp, scaling, magnitude_warp\n"
   ]
  },
  {
   "cell_type": "code",
   "execution_count": 7,
   "id": "07be6139-a5a6-47bd-b708-64c1f3f9f425",
   "metadata": {},
   "outputs": [],
   "source": [
    "def tf_aug(X_in, scaler=1/25.):\n",
    "    X_out = np.zeros_like(X_in)\n",
    "    for channel in range(X_in.shape[-1]):\n",
    "        this_X = X_in[..., channel][np.newaxis, ..., np.newaxis]\n",
    "        scale = np.abs(np.max(this_X) - np.min(this_X)) * scaler\n",
    "        this_X = jitter(this_X, sigma=scale)\n",
    "        this_X = scaling(this_X, sigma=scale)\n",
    "        this_X = time_warp(this_X, sigma=scale)\n",
    "        X_out[..., channel] = this_X[0, ..., 0]\n",
    "    return X_out"
   ]
  },
  {
   "cell_type": "code",
   "execution_count": 8,
   "id": "76a0da91-0a05-47f8-893b-25aeb7043dbf",
   "metadata": {},
   "outputs": [],
   "source": [
    "def augment_this(X_in, y_in):\n",
    "    X_out = tf.numpy_function(tf_aug, [X_in], tf.float32)    \n",
    "    return X_out, y_in"
   ]
  },
  {
   "cell_type": "code",
   "execution_count": null,
   "id": "69cfc099-cc8f-43a9-bc16-523d4123bffb",
   "metadata": {},
   "outputs": [
    {
     "name": "stdout",
     "output_type": "stream",
     "text": [
      "Epoch 1/100\n",
      "46/46 [==============================] - 35s 717ms/step - loss: 0.3266 - val_loss: 0.3651\n",
      "Epoch 2/100\n",
      "12/46 [======>.......................] - ETA: 25s - loss: 0.2969"
     ]
    }
   ],
   "source": [
    "train_dataset = train_dataset.map(augment_this)\n",
    "train_dataset = train_dataset.batch(32)\n",
    "val_dataset = val_dataset.batch(32)\n",
    "\n",
    "model.fit(train_dataset, epochs=100, validation_data=val_dataset)"
   ]
  },
  {
   "cell_type": "code",
   "execution_count": null,
   "id": "a2b11f04-a0a5-4442-921a-488182577ff9",
   "metadata": {},
   "outputs": [],
   "source": [
    "debug"
   ]
  },
  {
   "cell_type": "code",
   "execution_count": null,
   "id": "85cbb3e8-6696-40af-920c-9136a92c9b32",
   "metadata": {},
   "outputs": [],
   "source": []
  }
 ],
 "metadata": {
  "kernelspec": {
   "display_name": "Python 3.8 - Pytorch and Tensorflow",
   "language": "python",
   "name": "azureml_py38_pt_tf"
  },
  "language_info": {
   "codemirror_mode": {
    "name": "ipython",
    "version": 3
   },
   "file_extension": ".py",
   "mimetype": "text/x-python",
   "name": "python",
   "nbconvert_exporter": "python",
   "pygments_lexer": "ipython3",
   "version": "3.8.5"
  }
 },
 "nbformat": 4,
 "nbformat_minor": 5
}
