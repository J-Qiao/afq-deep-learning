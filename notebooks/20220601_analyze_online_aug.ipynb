{
 "cells": [
  {
   "cell_type": "code",
   "execution_count": 5,
   "id": "0468dfc3-75f5-47ca-abec-00116c12b8ff",
   "metadata": {},
   "outputs": [],
   "source": [
    "import pandas as pd\n",
    "import seaborn as sns"
   ]
  },
  {
   "cell_type": "code",
   "execution_count": 6,
   "id": "82821c0f-1e0a-4a36-b1a6-5e3057c5bd67",
   "metadata": {},
   "outputs": [],
   "source": [
    "results = pd.read_csv('./all_sites_online_aug.csv')"
   ]
  },
  {
   "cell_type": "code",
   "execution_count": 8,
   "id": "71d42cc9-912c-4d98-afdd-bc6b6d49420f",
   "metadata": {},
   "outputs": [
    {
     "data": {
      "text/plain": [
       "<matplotlib.collections.LineCollection at 0x7fab79ae0820>"
      ]
     },
     "execution_count": 8,
     "metadata": {},
     "output_type": "execute_result"
    },
    {
     "data": {
      "image/png": "[encoded data removed]",
      "text/plain": [
       "<Figure size 360x360 with 1 Axes>"
      ]
     },
     "metadata": {
      "needs_background": "light"
     },
     "output_type": "display_data"
    }
   ],
   "source": [
    "ff = sns.catplot(data=results[(results[\"Metric\"]==\"mad\")], kind=\"bar\", ci=\"sd\", y=\"Value\", x=\"Model\")\n",
    "# ff.figure.set_size_inches([12, 10])\n",
    "ff.axes[0][0].hlines(1.45, *ff.axes[0][0].get_xlim(), 'k')"
   ]
  },
  {
   "cell_type": "code",
   "execution_count": null,
   "id": "24f6a697-b827-4742-b69e-ef8d66d278d1",
   "metadata": {},
   "outputs": [],
   "source": []
  }
 ],
 "metadata": {
  "kernelspec": {
   "display_name": "Python 3.8 - AzureML",
   "language": "python",
   "name": "python38-azureml"
  },
  "language_info": {
   "codemirror_mode": {
    "name": "ipython",
    "version": 3
   },
   "file_extension": ".py",
   "mimetype": "text/x-python",
   "name": "python",
   "nbconvert_exporter": "python",
   "pygments_lexer": "ipython3",
   "version": "3.8.5"
  }
 },
 "nbformat": 4,
 "nbformat_minor": 5
}
