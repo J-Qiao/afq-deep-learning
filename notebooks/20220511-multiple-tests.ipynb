{
 "cells": [
  {
   "cell_type": "code",
   "execution_count": 1,
   "id": "a10a3c25-1c76-4675-abc8-a2085b5add55",
   "metadata": {},
   "outputs": [
    {
     "name": "stderr",
     "output_type": "stream",
     "text": [
      "/anaconda/envs/azureml_py38_PT_TF/lib/python3.8/site-packages/tqdm/auto.py:22: TqdmWarning: IProgress not found. Please update jupyter and ipywidgets. See https://ipywidgets.readthedocs.io/en/stable/user_install.html\n",
      "  from .autonotebook import tqdm as notebook_tqdm\n"
     ]
    }
   ],
   "source": [
    "import afqinsight.nn.tf_models as nn\n",
    "import numpy as np\n",
    "import tensorflow as tf\n",
    "import matplotlib.pyplot as plt\n",
    "from afqinsight.datasets import AFQDataset\n",
    "from afqinsight.nn.tf_models import cnn_lenet, mlp4, cnn_vgg, lstm1v0, lstm1, lstm2, blstm1, blstm2, lstm_fcn, cnn_resnet\n",
    "from sklearn.impute import SimpleImputer\n",
    "import os.path\n",
    "# Harmonization\n",
    "from sklearn.model_selection import train_test_split\n",
    "from neurocombat_sklearn import CombatModel\n",
    "import pandas as pd\n",
    "from sklearn.utils import shuffle, resample\n",
    "from afqinsight.augmentation import jitter, time_warp, scaling\n",
    "import tempfile"
   ]
  },
  {
   "cell_type": "code",
   "execution_count": 2,
   "id": "e0eccb79",
   "metadata": {},
   "outputs": [],
   "source": [
    "afq_dataset = AFQDataset.from_files(\n",
    "    fn_nodes=\"../data/raw/combined_tract_profiles.csv\",\n",
    "    fn_subjects=\"../data/raw/participants_updated_id.csv\",\n",
    "    dwi_metrics=[\"dki_fa\", \"dki_md\", \"dki_mk\"],\n",
    "    index_col=\"subject_id\",\n",
    "    target_cols=[\"age\", \"dl_qc_score\", \"scan_site_id\"],\n",
    "    label_encode_cols=[\"scan_site_id\"]\n",
    ")"
   ]
  },
  {
   "cell_type": "code",
   "execution_count": 3,
   "id": "6dbd772b-6d2f-4080-b5d2-6c9899a4ce32",
   "metadata": {},
   "outputs": [],
   "source": [
    "afq_dataset.drop_target_na()"
   ]
  },
  {
   "cell_type": "code",
   "execution_count": 4,
   "id": "4cbe585b-0c8e-4707-9337-7c8d82e2eb16",
   "metadata": {},
   "outputs": [
    {
     "name": "stdout",
     "output_type": "stream",
     "text": [
      "1865\n",
      "(1865, 7200)\n",
      "(1865, 3)\n"
     ]
    }
   ],
   "source": [
    "print(len(afq_dataset.subjects))\n",
    "print(afq_dataset.X.shape)\n",
    "print(afq_dataset.y.shape)"
   ]
  },
  {
   "cell_type": "code",
   "execution_count": 5,
   "id": "d1be2dfc-476d-4890-b81b-bb77680ddea5",
   "metadata": {},
   "outputs": [],
   "source": [
    "full_dataset = list(afq_dataset.as_tensorflow_dataset().as_numpy_iterator())"
   ]
  },
  {
   "cell_type": "code",
   "execution_count": 6,
   "id": "20496e32-e970-4f15-8a48-d9de6ccf8943",
   "metadata": {},
   "outputs": [],
   "source": [
    "X = np.concatenate([xx[0][None] for xx in full_dataset], 0)\n",
    "y = np.array([yy[1][0] for yy in full_dataset])\n",
    "qc = np.array([yy[1][1] for yy in full_dataset])\n",
    "site = np.array([yy[1][2] for yy in full_dataset])"
   ]
  },
  {
   "cell_type": "code",
   "execution_count": 7,
   "id": "5303d1b7-8ad5-442f-b980-3d8c7f39e373",
   "metadata": {},
   "outputs": [],
   "source": [
    "X = X[qc>0]\n",
    "y = y[qc>0]\n",
    "site = site[qc>0]"
   ]
  },
  {
   "cell_type": "code",
   "execution_count": 8,
   "id": "0e7b61dc-42a7-4cef-b99b-e1c39f776daa",
   "metadata": {},
   "outputs": [],
   "source": [
    "n_epochs = 1000\n",
    "\n",
    "# EarlyStopping\n",
    "early_stopping = tf.keras.callbacks.EarlyStopping(\n",
    "    monitor=\"val_loss\",\n",
    "    min_delta=0.001,\n",
    "    mode=\"min\",\n",
    "    patience=100\n",
    ")\n",
    "\n",
    "# ReduceLROnPlateau\n",
    "reduce_lr = tf.keras.callbacks.ReduceLROnPlateau(\n",
    "    monitor=\"val_loss\",\n",
    "    factor=0.5,\n",
    "    patience=20,\n",
    "    verbose=1,\n",
    ")"
   ]
  },
  {
   "cell_type": "code",
   "execution_count": 9,
   "id": "96197b4f-541a-4442-bca8-70ecd6e96ad4",
   "metadata": {},
   "outputs": [],
   "source": [
    "def augment_this(X, y, rounds=2): \n",
    "    new_X = X[:]\n",
    "    new_y = y[:]\n",
    "    for f in range(rounds): \n",
    "        aug_X = np.zeros_like(X)\n",
    "        # Do each channel separately:\n",
    "        for channel in range(aug_X.shape[-1]):\n",
    "            this_X = X[..., channel][..., np.newaxis]\n",
    "            this_X = jitter(this_X, sigma=np.mean(this_X)/25)\n",
    "            this_X = scaling(this_X, sigma=np.mean(this_X)/25)\n",
    "            this_X = time_warp(this_X, sigma=np.mean(this_X)/25)\n",
    "            aug_X[..., channel] = this_X[...,0]\n",
    "        new_X = np.concatenate([new_X, aug_X])\n",
    "        new_y = np.concatenate([new_y, y])\n",
    "    return new_X, new_y "
   ]
  },
  {
   "cell_type": "code",
   "execution_count": 10,
   "id": "a2b95639-1871-4523-ab4d-6ce5f5f553f3",
   "metadata": {},
   "outputs": [],
   "source": [
    "imputer = SimpleImputer(strategy=\"median\")\n",
    "def impute(X_data):\n",
    "    X_data = np.concatenate([imputer.fit_transform(X_data[..., ii])[:, :, None] for ii in range(X_data.shape[-1])], -1)\n",
    "    return X_data"
   ]
  },
  {
   "cell_type": "code",
   "execution_count": 11,
   "id": "07093c9f-0798-42ef-88ce-ecfa3556137c",
   "metadata": {},
   "outputs": [],
   "source": [
    "# Generate evaluation results and correlation coeffcients combined in a dataframe, and history\n",
    "def single_cross_site(model_name, name_str, lr,\n",
    "                      site_1, site_2, site_3, X, y):\n",
    "    # Split the data by sites\n",
    "    X_1 = X[site==site_1]\n",
    "    y_1 = y[site==site_1]\n",
    "    X_2 = X[site==site_2]\n",
    "    y_2 = y[site==site_2]\n",
    "    X_3 = X[site==site_3]\n",
    "    y_3 = y[site==site_3]\n",
    "    # Split the data into train and test sets:\n",
    "    X_train, X_test1, y_train, y_test1 = train_test_split(X_1, y_1, test_size=0.2)\n",
    "    _, X_test2, _, y_test2 = train_test_split(X_2, y_2, test_size=0.2)\n",
    "    _, X_test3, _, y_test3 = train_test_split(X_3, y_3, test_size=0.2)\n",
    "    # Impute train and test separately:\n",
    "    X_train = impute(X_train)\n",
    "    X_test1 = impute(X_test1)\n",
    "    X_test2 = impute(X_test2)\n",
    "    X_test3 = impute(X_test3)\n",
    "    model = model_name(input_shape=(100, 72), n_classes=1, output_activation=None, verbose=True)\n",
    "    model.compile(loss='mean_squared_error',\n",
    "                  optimizer=tf.keras.optimizers.Adam(learning_rate=lr),\n",
    "                  metrics=['mean_squared_error', \n",
    "                           tf.keras.metrics.RootMeanSquaredError(name='rmse'), \n",
    "                           'mean_absolute_error'])\n",
    "    # ModelCheckpoint\n",
    "    ckpt_filepath = tempfile.NamedTemporaryFile().name + '.h5'\n",
    "    ckpt = tf.keras.callbacks.ModelCheckpoint(\n",
    "    filepath = ckpt_filepath,\n",
    "    monitor=\"val_loss\",\n",
    "    verbose=1,\n",
    "    save_best_only=True,\n",
    "    save_weights_only=True,\n",
    "    mode=\"auto\",\n",
    "    )\n",
    "    # CSVLogger\n",
    "    log = tf.keras.callbacks.CSVLogger(filename=(name_str + '.csv'), append=True)\n",
    "    callbacks = [early_stopping, ckpt, reduce_lr, log]\n",
    "    history = model.fit(X_train, y_train, epochs=n_epochs, batch_size=128, validation_split=0.2,\n",
    "                        callbacks=callbacks)\n",
    "    model.load_weights(ckpt_filepath)\n",
    "    y_predicted1 = model.predict(X_test1)\n",
    "    y_predicted1 = y_predicted1.reshape(y_test1.shape)\n",
    "    y_predicted2 = model.predict(X_test2)\n",
    "    y_predicted2 = y_predicted2.reshape(y_test2.shape)\n",
    "    y_predicted3 = model.predict(X_test3)\n",
    "    y_predicted3 = y_predicted3.reshape(y_test3.shape)\n",
    "    coef1 = np.corrcoef(y_test1, y_predicted1)[0,1] ** 2\n",
    "    coef2 = np.corrcoef(y_test2, y_predicted2)[0,1] ** 2\n",
    "    coef3 = np.corrcoef(y_test3, y_predicted3)[0,1] ** 2\n",
    "    eval_1 = model.evaluate(X_test1, y_test1)\n",
    "    eval_2 = model.evaluate(X_test2, y_test2)\n",
    "    eval_3 = model.evaluate(X_test3, y_test3)\n",
    "    result = {'Model': [name_str]*12,\n",
    "              'Train_site': [site_1]*12,\n",
    "              'Test_site': [site_1] * 4 + [site_2] * 4 + [site_3] * 4,\n",
    "              'Metric': ['MSE', 'RMSE', 'MAE', 'coef'] * 3,\n",
    "              'Value': [eval_1[1], eval_1[2], eval_1[3], coef1,\n",
    "                        eval_2[1], eval_2[2], eval_2[3], coef2,\n",
    "                        eval_3[1], eval_3[2], eval_3[3], coef3]}\n",
    "    df = pd.DataFrame(result)\n",
    "    return df, history"
   ]
  }
 ],
 "metadata": {
  "kernelspec": {
   "display_name": "Python 3.8 - Pytorch and Tensorflow",
   "language": "python",
   "name": "azureml_py38_pt_tf"
  },
  "language_info": {
   "codemirror_mode": {
    "name": "ipython",
    "version": 3
   },
   "file_extension": ".py",
   "mimetype": "text/x-python",
   "name": "python",
   "nbconvert_exporter": "python",
   "pygments_lexer": "ipython3",
   "version": "3.8.5"
  }
 },
 "nbformat": 4,
 "nbformat_minor": 5
}
