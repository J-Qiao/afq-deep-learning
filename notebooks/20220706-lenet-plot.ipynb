{
 "cells": [
  {
   "cell_type": "code",
   "execution_count": 1,
   "id": "0468dfc3-75f5-47ca-abec-00116c12b8ff",
   "metadata": {},
   "outputs": [],
   "source": [
    "import pandas as pd\n",
    "import seaborn as sns"
   ]
  },
  {
   "cell_type": "code",
   "execution_count": 2,
   "id": "7b12308f",
   "metadata": {},
   "outputs": [],
   "source": [
    "all_df = []"
   ]
  },
  {
   "cell_type": "code",
   "execution_count": 3,
   "id": "4eea408e",
   "metadata": {},
   "outputs": [],
   "source": [
    "train_size = [1453, 1000, 700, 350, 175, 100]"
   ]
  },
  {
   "cell_type": "code",
   "execution_count": 4,
   "id": "15ab5d16",
   "metadata": {},
   "outputs": [],
   "source": [
    "for ii in range(6):\n",
    "    results = pd.read_csv(f'lenet_{ii + 1}_eval.csv')\n",
    "    results['train_size'] = train_size[ii]\n",
    "    all_df.append(results)"
   ]
  },
  {
   "cell_type": "code",
   "execution_count": 5,
   "id": "4595e802",
   "metadata": {},
   "outputs": [],
   "source": [
    "data = pd.concat(all_df)"
   ]
  },
  {
   "cell_type": "code",
   "execution_count": 6,
   "id": "71d42cc9-912c-4d98-afdd-bc6b6d49420f",
   "metadata": {},
   "outputs": [
    {
     "data": {
      "image/png": "[encoded data removed]",
      "text/plain": [
       "<Figure size 360x360 with 1 Axes>"
      ]
     },
     "metadata": {
      "needs_background": "light"
     },
     "output_type": "display_data"
    }
   ],
   "source": [
    "ff = sns.catplot(data=data[(data[\"Metric\"]==\"r2\")], kind=\"bar\", ci=\"sd\", y=\"Value\", x=\"train_size\")\n",
    "# ff.figure.set_size_inches([12, 10])\n",
    "# ff.axes[0][0].hlines(1.45, *ff.axes[0][0].get_xlim(), 'k')"
   ]
  },
  {
   "cell_type": "code",
   "execution_count": null,
   "id": "24f6a697-b827-4742-b69e-ef8d66d278d1",
   "metadata": {},
   "outputs": [],
   "source": []
  }
 ],
 "metadata": {
  "kernelspec": {
   "display_name": "Python 3 (ipykernel)",
   "language": "python",
   "name": "python3"
  },
  "language_info": {
   "codemirror_mode": {
    "name": "ipython",
    "version": 3
   },
   "file_extension": ".py",
   "mimetype": "text/x-python",
   "name": "python",
   "nbconvert_exporter": "python",
   "pygments_lexer": "ipython3",
   "version": "3.9.7"
  }
 },
 "nbformat": 4,
 "nbformat_minor": 5
}
